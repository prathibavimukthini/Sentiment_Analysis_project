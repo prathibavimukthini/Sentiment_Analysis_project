{
 "cells": [
  {
   "cell_type": "code",
   "execution_count": 1,
   "metadata": {},
   "outputs": [],
   "source": [
    "import numpy as numpy"
   ]
  },
  {
   "cell_type": "code",
   "execution_count": 2,
   "metadata": {},
   "outputs": [],
   "source": [
    "import json\n",
    "with open('../artifacts/kaggle.json','r') as file:\n",
    "    data = json.load(file)"
   ]
  },
  {
   "cell_type": "code",
   "execution_count": 3,
   "metadata": {},
   "outputs": [
    {
     "data": {
      "text/plain": [
       "{'username': 'prathibavimukthini', 'key': '8c94a5283291d167139c25a0a2acaed3'}"
      ]
     },
     "execution_count": 3,
     "metadata": {},
     "output_type": "execute_result"
    }
   ],
   "source": [
    "data"
   ]
  },
  {
   "cell_type": "code",
   "execution_count": 4,
   "metadata": {},
   "outputs": [
    {
     "name": "stdout",
     "output_type": "stream",
     "text": [
      "Collecting kaggle\n",
      "  Downloading kaggle-1.5.13.tar.gz (63 kB)\n",
      "                                              0.0/63.3 kB ? eta -:--:--\n",
      "     ------------                             20.5/63.3 kB ? eta -:--:--\n",
      "     ------------------                     30.7/63.3 kB 325.1 kB/s eta 0:00:01\n",
      "     ------------------------               41.0/63.3 kB 217.9 kB/s eta 0:00:01\n",
      "     ------------------------               41.0/63.3 kB 217.9 kB/s eta 0:00:01\n",
      "     -------------------------------------- 63.3/63.3 kB 260.3 kB/s eta 0:00:00\n",
      "  Preparing metadata (setup.py): started\n",
      "  Preparing metadata (setup.py): finished with status 'done'\n",
      "Requirement already satisfied: six>=1.10 in e:\\python\\flask_projects\\sentiment_analysis_project\\env\\lib\\site-packages (from kaggle) (1.16.0)\n",
      "Collecting certifi (from kaggle)\n",
      "  Downloading certifi-2023.5.7-py3-none-any.whl (156 kB)\n",
      "                                              0.0/157.0 kB ? eta -:--:--\n",
      "     ----------------------                  92.2/157.0 kB 2.6 MB/s eta 0:00:01\n",
      "     ----------------------                  92.2/157.0 kB 2.6 MB/s eta 0:00:01\n",
      "     ----------------------                  92.2/157.0 kB 2.6 MB/s eta 0:00:01\n",
      "     ----------------------                  92.2/157.0 kB 2.6 MB/s eta 0:00:01\n",
      "     ----------------------                  92.2/157.0 kB 2.6 MB/s eta 0:00:01\n",
      "     ------------------------------------ 157.0/157.0 kB 627.0 kB/s eta 0:00:00\n",
      "Requirement already satisfied: python-dateutil in e:\\python\\flask_projects\\sentiment_analysis_project\\env\\lib\\site-packages (from kaggle) (2.8.2)\n",
      "Collecting requests (from kaggle)\n",
      "  Downloading requests-2.31.0-py3-none-any.whl (62 kB)\n",
      "                                              0.0/62.6 kB ? eta -:--:--\n",
      "     ---------------------------------------- 62.6/62.6 kB 1.7 MB/s eta 0:00:00\n",
      "Collecting tqdm (from kaggle)\n",
      "  Downloading tqdm-4.65.0-py3-none-any.whl (77 kB)\n",
      "                                              0.0/77.1 kB ? eta -:--:--\n",
      "     ---------------                          30.7/77.1 kB 1.3 MB/s eta 0:00:01\n",
      "     -----------------------------------    71.7/77.1 kB 787.7 kB/s eta 0:00:01\n",
      "     -------------------------------------- 77.1/77.1 kB 857.1 kB/s eta 0:00:00\n",
      "Collecting python-slugify (from kaggle)\n",
      "  Downloading python_slugify-8.0.1-py2.py3-none-any.whl (9.7 kB)\n",
      "Collecting urllib3 (from kaggle)\n",
      "  Downloading urllib3-2.0.3-py3-none-any.whl (123 kB)\n",
      "                                              0.0/123.6 kB ? eta -:--:--\n",
      "     ---------                               30.7/123.6 kB 1.4 MB/s eta 0:00:01\n",
      "     -------------------                     61.4/123.6 kB 1.1 MB/s eta 0:00:01\n",
      "     ------------------------              81.9/123.6 kB 919.0 kB/s eta 0:00:01\n",
      "     ------------------------              81.9/123.6 kB 919.0 kB/s eta 0:00:01\n",
      "     ------------------------------------ 123.6/123.6 kB 663.0 kB/s eta 0:00:00\n",
      "Collecting text-unidecode>=1.3 (from python-slugify->kaggle)\n",
      "  Downloading text_unidecode-1.3-py2.py3-none-any.whl (78 kB)\n",
      "                                              0.0/78.2 kB ? eta -:--:--\n",
      "     -------------------                    41.0/78.2 kB 960.0 kB/s eta 0:00:01\n",
      "     ----------------------------------     71.7/78.2 kB 787.7 kB/s eta 0:00:01\n",
      "     -------------------------------------- 78.2/78.2 kB 722.5 kB/s eta 0:00:00\n",
      "Collecting charset-normalizer<4,>=2 (from requests->kaggle)\n",
      "  Downloading charset_normalizer-3.1.0-cp311-cp311-win_amd64.whl (96 kB)\n",
      "                                              0.0/96.7 kB ? eta -:--:--\n",
      "     ---------------------------------        81.9/96.7 kB 4.5 MB/s eta 0:00:01\n",
      "     ---------------------------------------- 96.7/96.7 kB 1.4 MB/s eta 0:00:00\n",
      "Requirement already satisfied: idna<4,>=2.5 in e:\\python\\flask_projects\\sentiment_analysis_project\\env\\lib\\site-packages (from requests->kaggle) (3.4)\n",
      "Requirement already satisfied: colorama in e:\\python\\flask_projects\\sentiment_analysis_project\\env\\lib\\site-packages (from tqdm->kaggle) (0.4.6)\n",
      "Building wheels for collected packages: kaggle\n",
      "  Building wheel for kaggle (setup.py): started\n",
      "  Building wheel for kaggle (setup.py): finished with status 'done'\n",
      "  Created wheel for kaggle: filename=kaggle-1.5.13-py3-none-any.whl size=77731 sha256=b5306b51e262583cf924ef6b31a648e47967aeb1fe36545154bc4b87ca0a8fb9\n",
      "  Stored in directory: c:\\users\\hp\\appdata\\local\\pip\\cache\\wheels\\3a\\a1\\b2\\6ae87ab801289eabd078a52cc8167e232e98f09b0e6cd2ca48\n",
      "Successfully built kaggle\n",
      "Installing collected packages: text-unidecode, urllib3, tqdm, python-slugify, charset-normalizer, certifi, requests, kaggle\n",
      "Successfully installed certifi-2023.5.7 charset-normalizer-3.1.0 kaggle-1.5.13 python-slugify-8.0.1 requests-2.31.0 text-unidecode-1.3 tqdm-4.65.0 urllib3-2.0.3\n"
     ]
    }
   ],
   "source": [
    "!pip install kaggle"
   ]
  },
  {
   "cell_type": "code",
   "execution_count": 5,
   "metadata": {},
   "outputs": [],
   "source": [
    "import os\n",
    "os.environ['KAGGLE_USERNAME'] = data['username']\n",
    "os.environ['KAGGLE_KEY'] = data['key']"
   ]
  },
  {
   "cell_type": "code",
   "execution_count": 7,
   "metadata": {},
   "outputs": [],
   "source": [
    "from kaggle.api.kaggle_api_extended import KaggleApi\n",
    "api = KaggleApi()\n",
    "api.authenticate()"
   ]
  },
  {
   "cell_type": "code",
   "execution_count": 8,
   "metadata": {},
   "outputs": [],
   "source": [
    "api.dataset_download_files('dineshpiyasamara/sentiment-analysis-dataset',path='../artifacts/')"
   ]
  },
  {
   "cell_type": "code",
   "execution_count": 9,
   "metadata": {},
   "outputs": [],
   "source": [
    "import zipfile\n",
    "with zipfile.ZipFile('../artifacts/sentiment-analysis-dataset.zip','r') as zip_ref:\n",
    "    zip_ref.extractall('../artifacts/')"
   ]
  },
  {
   "cell_type": "code",
   "execution_count": null,
   "metadata": {},
   "outputs": [],
   "source": []
  },
  {
   "cell_type": "code",
   "execution_count": null,
   "metadata": {},
   "outputs": [],
   "source": []
  }
 ],
 "metadata": {
  "kernelspec": {
   "display_name": "Python 3 (ipykernel)",
   "language": "python",
   "name": "python3"
  },
  "language_info": {
   "codemirror_mode": {
    "name": "ipython",
    "version": 3
   },
   "file_extension": ".py",
   "mimetype": "text/x-python",
   "name": "python",
   "nbconvert_exporter": "python",
   "pygments_lexer": "ipython3",
   "version": "3.11.2"
  }
 },
 "nbformat": 4,
 "nbformat_minor": 2
}
